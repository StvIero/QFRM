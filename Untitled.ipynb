{
 "cells": [
  {
   "cell_type": "code",
   "execution_count": null,
   "id": "c6daf3e9",
   "metadata": {},
   "outputs": [
    {
     "name": "stdout",
     "output_type": "stream",
     "text": [
      "Collecting copulas\n",
      "  Using cached copulas-0.3.0-py2.py3-none-any.whl (44 kB)\n",
      "Collecting exrex<0.11,>=0.10.5\n",
      "  Using cached exrex-0.10.5.tar.gz (4.8 kB)\n"
     ]
    }
   ],
   "source": [
    "####Copulas Code####\n",
    "!pip install copulas\n",
    "#Import packages.\n",
    "import pandas as pd\n",
    "import numpy as np\n",
    "import matplotlib.pyplot as plt\n",
    "import statsmodels.api as sm\n",
    "import scipy.stats as stats\n",
    "import seaborn as sns\n",
    "from copulas.multivariate import GaussianMultivariate\n"
   ]
  },
  {
   "cell_type": "code",
   "execution_count": null,
   "id": "591fa31f",
   "metadata": {},
   "outputs": [],
   "source": [
    "#Import data, set date column as index.\n",
    "df = pd.read_csv('/Users/connorstevens/Documents/GitHub/qfrm_code/Data3/data_main.csv', index_col= 1)\n",
    "df.head()\n",
    "\n",
    "#Extract list of return names to plot.\n",
    "assets = df.columns[df.columns.get_loc('ASML.AS_ret'): -1]\n",
    "print(assets)"
   ]
  },
  {
   "cell_type": "code",
   "execution_count": null,
   "id": "ef9909a5",
   "metadata": {},
   "outputs": [],
   "source": [
    "#Define Gaussian mulitvariate class\n",
    "copula = GaussianMultivariate()\n",
    "\n",
    "#Fit copula on data.\n",
    "copula.fit(df[assets])"
   ]
  }
 ],
 "metadata": {
  "kernelspec": {
   "display_name": "Python 3",
   "language": "python",
   "name": "python3"
  },
  "language_info": {
   "codemirror_mode": {
    "name": "ipython",
    "version": 3
   },
   "file_extension": ".py",
   "mimetype": "text/x-python",
   "name": "python",
   "nbconvert_exporter": "python",
   "pygments_lexer": "ipython3",
   "version": "3.8.5"
  }
 },
 "nbformat": 4,
 "nbformat_minor": 5
}
